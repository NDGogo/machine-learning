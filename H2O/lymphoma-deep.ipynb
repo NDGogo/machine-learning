{
 "cells": [
  {
   "cell_type": "code",
   "execution_count": 4,
   "metadata": {},
   "outputs": [],
   "source": [
    "import h2o\n",
    "from h2o.estimators.deeplearning import H2ODeepLearningEstimator\n",
    "\n",
    "CLASS_DIR = 'Datasets/lymphoma-class.txt'\n",
    "DATA_DIR = 'Datasets/lymphoma-data.txt'"
   ]
  },
  {
   "cell_type": "code",
   "execution_count": 22,
   "metadata": {
    "collapsed": true
   },
   "outputs": [
    {
     "name": "stdout",
     "output_type": "stream",
     "text": [
      "Checking whether there is an H2O instance running at http://localhost:54321. connected.\n"
     ]
    },
    {
     "data": {
      "text/html": [
       "<div style=\"overflow:auto\"><table style=\"width:50%\"><tr><td>H2O cluster uptime:</td>\n",
       "<td>18 mins 05 secs</td></tr>\n",
       "<tr><td>H2O cluster timezone:</td>\n",
       "<td>Australia/Sydney</td></tr>\n",
       "<tr><td>H2O data parsing timezone:</td>\n",
       "<td>UTC</td></tr>\n",
       "<tr><td>H2O cluster version:</td>\n",
       "<td>3.20.0.6</td></tr>\n",
       "<tr><td>H2O cluster version age:</td>\n",
       "<td>1 month and 20 days </td></tr>\n",
       "<tr><td>H2O cluster name:</td>\n",
       "<td>H2O_from_python_andyg_omrkwi</td></tr>\n",
       "<tr><td>H2O cluster total nodes:</td>\n",
       "<td>1</td></tr>\n",
       "<tr><td>H2O cluster free memory:</td>\n",
       "<td>3.226 Gb</td></tr>\n",
       "<tr><td>H2O cluster total cores:</td>\n",
       "<td>12</td></tr>\n",
       "<tr><td>H2O cluster allowed cores:</td>\n",
       "<td>12</td></tr>\n",
       "<tr><td>H2O cluster status:</td>\n",
       "<td>locked, healthy</td></tr>\n",
       "<tr><td>H2O connection url:</td>\n",
       "<td>http://localhost:54321</td></tr>\n",
       "<tr><td>H2O connection proxy:</td>\n",
       "<td>None</td></tr>\n",
       "<tr><td>H2O internal security:</td>\n",
       "<td>False</td></tr>\n",
       "<tr><td>H2O API Extensions:</td>\n",
       "<td>Algos, AutoML, Core V3, Core V4</td></tr>\n",
       "<tr><td>Python version:</td>\n",
       "<td>3.5.5 final</td></tr></table></div>"
      ],
      "text/plain": [
       "--------------------------  -------------------------------\n",
       "H2O cluster uptime:         18 mins 05 secs\n",
       "H2O cluster timezone:       Australia/Sydney\n",
       "H2O data parsing timezone:  UTC\n",
       "H2O cluster version:        3.20.0.6\n",
       "H2O cluster version age:    1 month and 20 days\n",
       "H2O cluster name:           H2O_from_python_andyg_omrkwi\n",
       "H2O cluster total nodes:    1\n",
       "H2O cluster free memory:    3.226 Gb\n",
       "H2O cluster total cores:    12\n",
       "H2O cluster allowed cores:  12\n",
       "H2O cluster status:         locked, healthy\n",
       "H2O connection url:         http://localhost:54321\n",
       "H2O connection proxy:\n",
       "H2O internal security:      False\n",
       "H2O API Extensions:         Algos, AutoML, Core V3, Core V4\n",
       "Python version:             3.5.5 final\n",
       "--------------------------  -------------------------------"
      ]
     },
     "metadata": {},
     "output_type": "display_data"
    },
    {
     "name": "stdout",
     "output_type": "stream",
     "text": [
      "Parse progress: |█████████████████████████████████████████████████████████| 100%\n",
      "Parse progress: |█████████████████████████████████████████████████████████| 100%\n"
     ]
    }
   ],
   "source": [
    "# Initialise H2O cluster\n",
    "h2o.init()\n",
    "h2o.remove_all()\n",
    "\n",
    "lymphoma_class = h2o.import_file(path=CLASS_DIR, header=-1, sep='\\t')\n",
    "lymphoma_data = h2o.import_file(path=DATA_DIR, header=1, sep='\\t')"
   ]
  },
  {
   "cell_type": "code",
   "execution_count": 27,
   "metadata": {
    "collapsed": true
   },
   "outputs": [
    {
     "name": "stderr",
     "output_type": "stream",
     "text": [
      "C:\\Users\\andyg\\Anaconda3\\envs\\tensorflow\\lib\\site-packages\\h2o\\utils\\shared_utils.py:177: FutureWarning: Method .as_matrix will be removed in a future version. Use .values instead.\n",
      "  data = _handle_python_lists(python_obj.as_matrix().tolist(), -1)[1]\n"
     ]
    },
    {
     "name": "stdout",
     "output_type": "stream",
     "text": [
      "Parse progress: |█████████████████████████████████████████████████████████| 100%\n",
      "Parse progress: |█████████████████████████████████████████████████████████| 100%\n",
      "Parse progress: |█████████████████████████████████████████████████████████| 100%\n"
     ]
    }
   ],
   "source": [
    "# Data preparation and manipulation\n",
    "def transpose_frame(h2o_df, column_name):\n",
    "    pd_df = h2o_df.as_data_frame(use_pandas=True)\n",
    "    pd_df = pd_df.transpose()\n",
    "    if column_name == 'class':\n",
    "        pd_df.columns = [column_name]\n",
    "    elif column_name == 'categories':\n",
    "        pd_df.columns = pd_df.iloc[0]\n",
    "        pd_df = pd_df.drop(labels=column_name, axis=0)\n",
    "    else:\n",
    "        pd_df.columns = ['C' + str(col) for col in range(len(pd_df.columns))]\n",
    "    return h2o.H2OFrame(pd_df)\n",
    "\n",
    "def randomize_frame(h2o_df):\n",
    "    pd_df = h2o_df.as_data_frame(use_pandas=True)\n",
    "    pd_df.sample(frac=1).reset_index(drop=True)\n",
    "    return h2o.H2OFrame(pd_df)\n",
    "\n",
    "lymphoma_class_t = transpose_frame(lymphoma_class, 'class')\n",
    "lymphoma_data_t = transpose_frame(lymphoma_data, 'categories')\n",
    "lymphoma = randomize_frame(lymphoma_data_t.cbind(lymphoma_class_t))\n",
    "\n",
    "label = 'class'\n",
    "features = lymphoma.names\n",
    "features.remove(label)\n",
    "\n",
    "train, valid = lymphoma.split_frame([0.75])\n",
    "train[label] = train[label].asfactor()\n",
    "valid[label] = valid[label].asfactor()"
   ]
  },
  {
   "cell_type": "code",
   "execution_count": 28,
   "metadata": {
    "collapsed": true
   },
   "outputs": [
    {
     "name": "stdout",
     "output_type": "stream",
     "text": [
      "deeplearning Model Build progress: |██████████████████████████████████████| 100%\n"
     ]
    }
   ],
   "source": [
    "# Model properties and training\n",
    "model = H2ODeepLearningEstimator(activation = \"rectifier_with_dropout\", hidden = [190,63,21,7], epochs = 50, input_dropout_ratio = 0.1)\n",
    "model.train(x = features, y = label, training_frame = train, validation_frame = valid)"
   ]
  },
  {
   "cell_type": "code",
   "execution_count": 34,
   "metadata": {},
   "outputs": [
    {
     "name": "stdout",
     "output_type": "stream",
     "text": [
      "deeplearning prediction progress: |███████████████████████████████████████| 100%\n"
     ]
    },
    {
     "data": {
      "text/html": [
       "<table>\n",
       "<thead>\n",
       "<tr><th style=\"text-align: right;\">  predict</th><th style=\"text-align: right;\">      p0</th><th style=\"text-align: right;\">         p1</th><th style=\"text-align: right;\">        p2</th></tr>\n",
       "</thead>\n",
       "<tbody>\n",
       "<tr><td style=\"text-align: right;\">        0</td><td style=\"text-align: right;\">0.98733 </td><td style=\"text-align: right;\">5.08461e-06</td><td style=\"text-align: right;\">0.0126648 </td></tr>\n",
       "<tr><td style=\"text-align: right;\">        0</td><td style=\"text-align: right;\">0.962262</td><td style=\"text-align: right;\">0.000281133</td><td style=\"text-align: right;\">0.0374572 </td></tr>\n",
       "<tr><td style=\"text-align: right;\">        0</td><td style=\"text-align: right;\">0.998716</td><td style=\"text-align: right;\">1.90317e-08</td><td style=\"text-align: right;\">0.00128442</td></tr>\n",
       "<tr><td style=\"text-align: right;\">        0</td><td style=\"text-align: right;\">0.992982</td><td style=\"text-align: right;\">7.45278e-07</td><td style=\"text-align: right;\">0.00701714</td></tr>\n",
       "<tr><td style=\"text-align: right;\">        0</td><td style=\"text-align: right;\">0.990252</td><td style=\"text-align: right;\">1.17013e-06</td><td style=\"text-align: right;\">0.00974686</td></tr>\n",
       "<tr><td style=\"text-align: right;\">        0</td><td style=\"text-align: right;\">0.995208</td><td style=\"text-align: right;\">5.22845e-08</td><td style=\"text-align: right;\">0.00479206</td></tr>\n",
       "<tr><td style=\"text-align: right;\">        0</td><td style=\"text-align: right;\">0.99044 </td><td style=\"text-align: right;\">8.14475e-08</td><td style=\"text-align: right;\">0.00955979</td></tr>\n",
       "<tr><td style=\"text-align: right;\">        0</td><td style=\"text-align: right;\">0.989158</td><td style=\"text-align: right;\">1.05307e-06</td><td style=\"text-align: right;\">0.0108405 </td></tr>\n",
       "<tr><td style=\"text-align: right;\">        0</td><td style=\"text-align: right;\">0.99722 </td><td style=\"text-align: right;\">2.72455e-08</td><td style=\"text-align: right;\">0.00277995</td></tr>\n",
       "<tr><td style=\"text-align: right;\">        0</td><td style=\"text-align: right;\">0.995443</td><td style=\"text-align: right;\">6.58942e-08</td><td style=\"text-align: right;\">0.00455719</td></tr>\n",
       "</tbody>\n",
       "</table>"
      ]
     },
     "metadata": {},
     "output_type": "display_data"
    },
    {
     "name": "stdout",
     "output_type": "stream",
     "text": [
      "\n",
      "Confusion Matrix: Row labels: Actual class; Column labels: Predicted class\n",
      "\n"
     ]
    },
    {
     "data": {
      "text/html": [
       "<div style=\"overflow:auto\"><table style=\"width:50%\"><tr><td><b>0</b></td>\n",
       "<td><b>1</b></td>\n",
       "<td><b>2</b></td>\n",
       "<td><b>Error</b></td>\n",
       "<td><b>Rate</b></td></tr>\n",
       "<tr><td>13.0</td>\n",
       "<td>0.0</td>\n",
       "<td>0.0</td>\n",
       "<td>0.0</td>\n",
       "<td>0 / 13</td></tr>\n",
       "<tr><td>0.0</td>\n",
       "<td>0.0</td>\n",
       "<td>3.0</td>\n",
       "<td>1.0</td>\n",
       "<td>3 / 3</td></tr>\n",
       "<tr><td>0.0</td>\n",
       "<td>0.0</td>\n",
       "<td>3.0</td>\n",
       "<td>0.0</td>\n",
       "<td>0 / 3</td></tr>\n",
       "<tr><td>13.0</td>\n",
       "<td>0.0</td>\n",
       "<td>6.0</td>\n",
       "<td>0.1578947</td>\n",
       "<td>3 / 19</td></tr></table></div>"
      ],
      "text/plain": [
       "0    1    2    Error     Rate\n",
       "---  ---  ---  --------  ------\n",
       "13   0    0    0         0 / 13\n",
       "0    0    3    1         3 / 3\n",
       "0    0    3    0         0 / 3\n",
       "13   0    6    0.157895  3 / 19"
      ]
     },
     "metadata": {},
     "output_type": "display_data"
    },
    {
     "name": "stdout",
     "output_type": "stream",
     "text": [
      "\n"
     ]
    }
   ],
   "source": [
    "# Model predictions and validation\n",
    "predictions = model.predict(valid)\n",
    "print(predictions)\n",
    "print(model.confusion_matrix(valid))"
   ]
  }
 ],
 "metadata": {
  "kernelspec": {
   "display_name": "Python [conda env:tensorflow]",
   "language": "python",
   "name": "conda-env-tensorflow-py"
  },
  "language_info": {
   "codemirror_mode": {
    "name": "ipython",
    "version": 3
   },
   "file_extension": ".py",
   "mimetype": "text/x-python",
   "name": "python",
   "nbconvert_exporter": "python",
   "pygments_lexer": "ipython3",
   "version": "3.5.5"
  }
 },
 "nbformat": 4,
 "nbformat_minor": 2
}
