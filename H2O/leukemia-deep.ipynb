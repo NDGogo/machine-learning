{
 "cells": [
  {
   "cell_type": "code",
   "execution_count": 6,
   "metadata": {},
   "outputs": [],
   "source": [
    "import h2o\n",
    "from h2o.estimators.deeplearning import H2ODeepLearningEstimator\n",
    "\n",
    "CLASS_DIR = 'Datasets/leukemia-class.txt'\n",
    "DATA_DIR = 'Datasets/leukemia-data.csv'"
   ]
  },
  {
   "cell_type": "code",
   "execution_count": 7,
   "metadata": {},
   "outputs": [
    {
     "name": "stdout",
     "output_type": "stream",
     "text": [
      "Checking whether there is an H2O instance running at http://localhost:54321. connected.\n"
     ]
    },
    {
     "data": {
      "text/html": [
       "<div style=\"overflow:auto\"><table style=\"width:50%\"><tr><td>H2O cluster uptime:</td>\n",
       "<td>2 mins 26 secs</td></tr>\n",
       "<tr><td>H2O cluster timezone:</td>\n",
       "<td>Australia/Sydney</td></tr>\n",
       "<tr><td>H2O data parsing timezone:</td>\n",
       "<td>UTC</td></tr>\n",
       "<tr><td>H2O cluster version:</td>\n",
       "<td>3.20.0.6</td></tr>\n",
       "<tr><td>H2O cluster version age:</td>\n",
       "<td>1 month and 20 days </td></tr>\n",
       "<tr><td>H2O cluster name:</td>\n",
       "<td>H2O_from_python_andyg_84jkj8</td></tr>\n",
       "<tr><td>H2O cluster total nodes:</td>\n",
       "<td>1</td></tr>\n",
       "<tr><td>H2O cluster free memory:</td>\n",
       "<td>2.964 Gb</td></tr>\n",
       "<tr><td>H2O cluster total cores:</td>\n",
       "<td>12</td></tr>\n",
       "<tr><td>H2O cluster allowed cores:</td>\n",
       "<td>12</td></tr>\n",
       "<tr><td>H2O cluster status:</td>\n",
       "<td>locked, healthy</td></tr>\n",
       "<tr><td>H2O connection url:</td>\n",
       "<td>http://localhost:54321</td></tr>\n",
       "<tr><td>H2O connection proxy:</td>\n",
       "<td>None</td></tr>\n",
       "<tr><td>H2O internal security:</td>\n",
       "<td>False</td></tr>\n",
       "<tr><td>H2O API Extensions:</td>\n",
       "<td>Algos, AutoML, Core V3, Core V4</td></tr>\n",
       "<tr><td>Python version:</td>\n",
       "<td>3.5.5 final</td></tr></table></div>"
      ],
      "text/plain": [
       "--------------------------  -------------------------------\n",
       "H2O cluster uptime:         2 mins 26 secs\n",
       "H2O cluster timezone:       Australia/Sydney\n",
       "H2O data parsing timezone:  UTC\n",
       "H2O cluster version:        3.20.0.6\n",
       "H2O cluster version age:    1 month and 20 days\n",
       "H2O cluster name:           H2O_from_python_andyg_84jkj8\n",
       "H2O cluster total nodes:    1\n",
       "H2O cluster free memory:    2.964 Gb\n",
       "H2O cluster total cores:    12\n",
       "H2O cluster allowed cores:  12\n",
       "H2O cluster status:         locked, healthy\n",
       "H2O connection url:         http://localhost:54321\n",
       "H2O connection proxy:\n",
       "H2O internal security:      False\n",
       "H2O API Extensions:         Algos, AutoML, Core V3, Core V4\n",
       "Python version:             3.5.5 final\n",
       "--------------------------  -------------------------------"
      ]
     },
     "metadata": {},
     "output_type": "display_data"
    },
    {
     "name": "stdout",
     "output_type": "stream",
     "text": [
      "Parse progress: |█████████████████████████████████████████████████████████| 100%\n",
      "Parse progress: |█████████████████████████████████████████████████████████| 100%\n"
     ]
    }
   ],
   "source": [
    "# Initialise H2O cluster\n",
    "h2o.init()\n",
    "h2o.remove_all()\n",
    "\n",
    "leukemia_class = h2o.import_file(path=CLASS_DIR, header=-1, sep=',')\n",
    "leukemia_data = h2o.import_file(path=DATA_DIR, header=-1, sep=',')"
   ]
  },
  {
   "cell_type": "code",
   "execution_count": 8,
   "metadata": {},
   "outputs": [
    {
     "name": "stderr",
     "output_type": "stream",
     "text": [
      "C:\\Users\\andyg\\Anaconda3\\envs\\tensorflow\\lib\\site-packages\\h2o\\utils\\shared_utils.py:177: FutureWarning: Method .as_matrix will be removed in a future version. Use .values instead.\n",
      "  data = _handle_python_lists(python_obj.as_matrix().tolist(), -1)[1]\n"
     ]
    },
    {
     "name": "stdout",
     "output_type": "stream",
     "text": [
      "Parse progress: |█████████████████████████████████████████████████████████| 100%\n",
      "Parse progress: |█████████████████████████████████████████████████████████| 100%\n",
      "Parse progress: |█████████████████████████████████████████████████████████| 100%\n"
     ]
    }
   ],
   "source": [
    "# Data preparation and manipulation\n",
    "def transpose_frame(h2o_df, column_name):\n",
    "    pd_df = h2o_df.as_data_frame(use_pandas=True)\n",
    "    pd_df = pd_df.transpose()\n",
    "    if column_name:\n",
    "        pd_df.columns = [column_name]\n",
    "    else:\n",
    "        pd_df.columns = ['C' + str(col) for col in range(len(pd_df.columns))]\n",
    "    return h2o.H2OFrame(pd_df)\n",
    "\n",
    "def randomize_frame(h2o_df):\n",
    "    pd_df = h2o_df.as_data_frame(use_pandas=True)\n",
    "    pd_df.sample(frac=1).reset_index(drop=True)\n",
    "    return h2o.H2OFrame(pd_df)\n",
    "\n",
    "leukemia_class_t = transpose_frame(leukemia_class, 'class')\n",
    "leukemia_data_t = transpose_frame(leukemia_data, '')\n",
    "leukemia = randomize_frame(leukemia_data_t.cbind(leukemia_class_t))\n",
    "\n",
    "label = 'class'\n",
    "features = leukemia.names\n",
    "features.remove(label)\n",
    "\n",
    "train, valid = leukemia.split_frame([0.75])\n",
    "train[label] = train[label].asfactor()\n",
    "valid[label] = valid[label].asfactor()"
   ]
  },
  {
   "cell_type": "code",
   "execution_count": 9,
   "metadata": {},
   "outputs": [
    {
     "name": "stdout",
     "output_type": "stream",
     "text": [
      "deeplearning Model Build progress: |██████████████████████████████████████| 100%\n"
     ]
    }
   ],
   "source": [
    "# Model properties and training\n",
    "model = H2ODeepLearningEstimator(activation = \"rectifier_with_dropout\", hidden = [190,63,21,7], epochs = 50, input_dropout_ratio = 0.1)\n",
    "model.train(x = features, y = label, training_frame = train, validation_frame = valid)"
   ]
  },
  {
   "cell_type": "code",
   "execution_count": 10,
   "metadata": {},
   "outputs": [
    {
     "name": "stdout",
     "output_type": "stream",
     "text": [
      "deeplearning prediction progress: |███████████████████████████████████████| 100%\n"
     ]
    },
    {
     "data": {
      "text/html": [
       "<table>\n",
       "<thead>\n",
       "<tr><th>predict  </th><th style=\"text-align: right;\">     ALL</th><th style=\"text-align: right;\">       AML</th></tr>\n",
       "</thead>\n",
       "<tbody>\n",
       "<tr><td>ALL      </td><td style=\"text-align: right;\">0.969184</td><td style=\"text-align: right;\">0.0308155 </td></tr>\n",
       "<tr><td>ALL      </td><td style=\"text-align: right;\">0.990335</td><td style=\"text-align: right;\">0.00966494</td></tr>\n",
       "<tr><td>ALL      </td><td style=\"text-align: right;\">0.989068</td><td style=\"text-align: right;\">0.0109324 </td></tr>\n",
       "<tr><td>ALL      </td><td style=\"text-align: right;\">0.989385</td><td style=\"text-align: right;\">0.0106145 </td></tr>\n",
       "<tr><td>AML      </td><td style=\"text-align: right;\">0.317399</td><td style=\"text-align: right;\">0.682601  </td></tr>\n",
       "<tr><td>AML      </td><td style=\"text-align: right;\">0.48659 </td><td style=\"text-align: right;\">0.51341   </td></tr>\n",
       "<tr><td>AML      </td><td style=\"text-align: right;\">0.302804</td><td style=\"text-align: right;\">0.697196  </td></tr>\n",
       "<tr><td>AML      </td><td style=\"text-align: right;\">0.887542</td><td style=\"text-align: right;\">0.112458  </td></tr>\n",
       "<tr><td>AML      </td><td style=\"text-align: right;\">0.677986</td><td style=\"text-align: right;\">0.322014  </td></tr>\n",
       "</tbody>\n",
       "</table>"
      ]
     },
     "metadata": {},
     "output_type": "display_data"
    },
    {
     "name": "stdout",
     "output_type": "stream",
     "text": [
      "\n",
      "Confusion Matrix (Act/Pred) for max f1 @ threshold = 0.1124582322590477: \n"
     ]
    },
    {
     "data": {
      "text/html": [
       "<div style=\"overflow:auto\"><table style=\"width:50%\"><tr><td><b></b></td>\n",
       "<td><b>ALL</b></td>\n",
       "<td><b>AML</b></td>\n",
       "<td><b>Error</b></td>\n",
       "<td><b>Rate</b></td></tr>\n",
       "<tr><td>ALL</td>\n",
       "<td>4.0</td>\n",
       "<td>0.0</td>\n",
       "<td>0.0</td>\n",
       "<td> (0.0/4.0)</td></tr>\n",
       "<tr><td>AML</td>\n",
       "<td>0.0</td>\n",
       "<td>5.0</td>\n",
       "<td>0.0</td>\n",
       "<td> (0.0/5.0)</td></tr>\n",
       "<tr><td>Total</td>\n",
       "<td>4.0</td>\n",
       "<td>5.0</td>\n",
       "<td>0.0</td>\n",
       "<td> (0.0/9.0)</td></tr></table></div>"
      ],
      "text/plain": [
       "       ALL    AML    Error    Rate\n",
       "-----  -----  -----  -------  ---------\n",
       "ALL    4      0      0        (0.0/4.0)\n",
       "AML    0      5      0        (0.0/5.0)\n",
       "Total  4      5      0        (0.0/9.0)"
      ]
     },
     "metadata": {},
     "output_type": "display_data"
    },
    {
     "name": "stdout",
     "output_type": "stream",
     "text": [
      "\n"
     ]
    }
   ],
   "source": [
    "# Model predictions and validation\n",
    "predictions = model.predict(valid)\n",
    "print(predictions)\n",
    "print(model.confusion_matrix(valid=True))"
   ]
  }
 ],
 "metadata": {
  "kernelspec": {
   "display_name": "Python [conda env:tensorflow]",
   "language": "python",
   "name": "conda-env-tensorflow-py"
  },
  "language_info": {
   "codemirror_mode": {
    "name": "ipython",
    "version": 3
   },
   "file_extension": ".py",
   "mimetype": "text/x-python",
   "name": "python",
   "nbconvert_exporter": "python",
   "pygments_lexer": "ipython3",
   "version": "3.5.5"
  }
 },
 "nbformat": 4,
 "nbformat_minor": 2
}
