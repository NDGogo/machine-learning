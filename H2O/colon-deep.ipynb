{
 "cells": [
  {
   "cell_type": "code",
   "execution_count": 2,
   "metadata": {},
   "outputs": [],
   "source": [
    "import h2o\n",
    "from h2o.estimators.deeplearning import H2ODeepLearningEstimator"
   ]
  },
  {
   "cell_type": "code",
   "execution_count": 4,
   "metadata": {
    "collapsed": true
   },
   "outputs": [
    {
     "name": "stdout",
     "output_type": "stream",
     "text": [
      "Checking whether there is an H2O instance running at http://localhost:54321. connected.\n"
     ]
    },
    {
     "data": {
      "text/html": [
       "<div style=\"overflow:auto\"><table style=\"width:50%\"><tr><td>H2O cluster uptime:</td>\n",
       "<td>01 secs</td></tr>\n",
       "<tr><td>H2O cluster timezone:</td>\n",
       "<td>Australia/Sydney</td></tr>\n",
       "<tr><td>H2O data parsing timezone:</td>\n",
       "<td>UTC</td></tr>\n",
       "<tr><td>H2O cluster version:</td>\n",
       "<td>3.20.0.6</td></tr>\n",
       "<tr><td>H2O cluster version age:</td>\n",
       "<td>1 month and 20 days </td></tr>\n",
       "<tr><td>H2O cluster name:</td>\n",
       "<td>H2O_from_python_andyg_84jkj8</td></tr>\n",
       "<tr><td>H2O cluster total nodes:</td>\n",
       "<td>1</td></tr>\n",
       "<tr><td>H2O cluster free memory:</td>\n",
       "<td>3.523 Gb</td></tr>\n",
       "<tr><td>H2O cluster total cores:</td>\n",
       "<td>12</td></tr>\n",
       "<tr><td>H2O cluster allowed cores:</td>\n",
       "<td>12</td></tr>\n",
       "<tr><td>H2O cluster status:</td>\n",
       "<td>locked, healthy</td></tr>\n",
       "<tr><td>H2O connection url:</td>\n",
       "<td>http://localhost:54321</td></tr>\n",
       "<tr><td>H2O connection proxy:</td>\n",
       "<td>None</td></tr>\n",
       "<tr><td>H2O internal security:</td>\n",
       "<td>False</td></tr>\n",
       "<tr><td>H2O API Extensions:</td>\n",
       "<td>Algos, AutoML, Core V3, Core V4</td></tr>\n",
       "<tr><td>Python version:</td>\n",
       "<td>3.5.5 final</td></tr></table></div>"
      ],
      "text/plain": [
       "--------------------------  -------------------------------\n",
       "H2O cluster uptime:         01 secs\n",
       "H2O cluster timezone:       Australia/Sydney\n",
       "H2O data parsing timezone:  UTC\n",
       "H2O cluster version:        3.20.0.6\n",
       "H2O cluster version age:    1 month and 20 days\n",
       "H2O cluster name:           H2O_from_python_andyg_84jkj8\n",
       "H2O cluster total nodes:    1\n",
       "H2O cluster free memory:    3.523 Gb\n",
       "H2O cluster total cores:    12\n",
       "H2O cluster allowed cores:  12\n",
       "H2O cluster status:         locked, healthy\n",
       "H2O connection url:         http://localhost:54321\n",
       "H2O connection proxy:\n",
       "H2O internal security:      False\n",
       "H2O API Extensions:         Algos, AutoML, Core V3, Core V4\n",
       "Python version:             3.5.5 final\n",
       "--------------------------  -------------------------------"
      ]
     },
     "metadata": {},
     "output_type": "display_data"
    }
   ],
   "source": [
    "h2o.init()\n",
    "h2o.remove_all()\n",
    "\n",
    "dataset = 'Datasets/colon-data.txt'\n",
    "dataclass = 'Datasets/colon-class.txt'"
   ]
  },
  {
   "cell_type": "code",
   "execution_count": 5,
   "metadata": {
    "collapsed": true
   },
   "outputs": [
    {
     "name": "stdout",
     "output_type": "stream",
     "text": [
      "Parse progress: |█████████████████████████████████████████████████████████| 100%\n",
      "Parse progress: |█████████████████████████████████████████████████████████| 100%\n"
     ]
    },
    {
     "name": "stderr",
     "output_type": "stream",
     "text": [
      "C:\\Users\\andyg\\Anaconda3\\envs\\tensorflow\\lib\\site-packages\\h2o\\utils\\shared_utils.py:177: FutureWarning: Method .as_matrix will be removed in a future version. Use .values instead.\n",
      "  data = _handle_python_lists(python_obj.as_matrix().tolist(), -1)[1]\n"
     ]
    },
    {
     "name": "stdout",
     "output_type": "stream",
     "text": [
      "Parse progress: |█████████████████████████████████████████████████████████| 100%\n",
      "Parse progress: |█████████████████████████████████████████████████████████| 100%\n",
      "Parse progress: |█████████████████████████████████████████████████████████| 100%\n"
     ]
    }
   ],
   "source": [
    "# Data preparation and manipulation\n",
    "colon_data = h2o.import_file(path=dataset)\n",
    "colon_class = h2o.import_file(path=dataclass, header=-1, sep='\\t')\n",
    "\n",
    "colon_class_pd = colon_class.as_data_frame(use_pandas=True)\n",
    "colon_class_pd = colon_class_pd.transpose()\n",
    "colon_class_pd.columns = ['class']\n",
    "colon_class = h2o.H2OFrame(colon_class_pd)\n",
    "\n",
    "colon_data_pd = colon_data.as_data_frame(use_pandas=True)\n",
    "colon_data_pd = colon_data_pd.transpose()\n",
    "colon_data_pd.columns = colon_data_pd.iloc[0]\n",
    "colon_data_pd = colon_data_pd.drop(labels='categories', axis=0)\n",
    "colon_data = h2o.H2OFrame(colon_data_pd)\n",
    "\n",
    "colon = colon_data.cbind(colon_class)\n",
    "colon_pd = colon.as_data_frame(use_pandas=True)\n",
    "colon_pd.sample(frac=1).reset_index(drop=True)\n",
    "colon = h2o.H2OFrame(colon_pd)\n",
    "\n",
    "label = 'class'\n",
    "features = colon.names\n",
    "features.remove(label)\n",
    "\n",
    "train, valid = colon.split_frame([0.80])\n",
    "train[label] = train[label].asfactor()\n",
    "valid[label] = valid[label].asfactor()"
   ]
  },
  {
   "cell_type": "code",
   "execution_count": 6,
   "metadata": {
    "collapsed": true
   },
   "outputs": [
    {
     "name": "stdout",
     "output_type": "stream",
     "text": [
      "deeplearning Model Build progress: |████████████████████████████████████████| 100%\n"
     ]
    }
   ],
   "source": [
    "# Model properties and training\n",
    "model = H2ODeepLearningEstimator(activation = \"rectifier_with_dropout\", hidden = [190,63,21,7], epochs = 50, input_dropout_ratio = 0.1)\n",
    "model.train(x = features, y = label, training_frame = train, validation_frame = valid)"
   ]
  },
  {
   "cell_type": "code",
   "execution_count": 7,
   "metadata": {},
   "outputs": [
    {
     "name": "stdout",
     "output_type": "stream",
     "text": [
      "deeplearning prediction progress: |███████████████████████████████████████| 100%\n"
     ]
    },
    {
     "data": {
      "text/html": [
       "<table>\n",
       "<thead>\n",
       "<tr><th>predict  </th><th style=\"text-align: right;\">     Normal</th><th style=\"text-align: right;\">     Tumor</th></tr>\n",
       "</thead>\n",
       "<tbody>\n",
       "<tr><td>Normal   </td><td style=\"text-align: right;\">0.990158   </td><td style=\"text-align: right;\">0.00984208</td></tr>\n",
       "<tr><td>Normal   </td><td style=\"text-align: right;\">0.879661   </td><td style=\"text-align: right;\">0.120339  </td></tr>\n",
       "<tr><td>Tumor    </td><td style=\"text-align: right;\">0.000897613</td><td style=\"text-align: right;\">0.999102  </td></tr>\n",
       "<tr><td>Tumor    </td><td style=\"text-align: right;\">0.000612421</td><td style=\"text-align: right;\">0.999388  </td></tr>\n",
       "<tr><td>Tumor    </td><td style=\"text-align: right;\">0.00178321 </td><td style=\"text-align: right;\">0.998217  </td></tr>\n",
       "<tr><td>Tumor    </td><td style=\"text-align: right;\">0.00202495 </td><td style=\"text-align: right;\">0.997975  </td></tr>\n",
       "<tr><td>Tumor    </td><td style=\"text-align: right;\">0.000518104</td><td style=\"text-align: right;\">0.999482  </td></tr>\n",
       "<tr><td>Tumor    </td><td style=\"text-align: right;\">0.00363839 </td><td style=\"text-align: right;\">0.996362  </td></tr>\n",
       "<tr><td>Tumor    </td><td style=\"text-align: right;\">9.02031e-05</td><td style=\"text-align: right;\">0.99991   </td></tr>\n",
       "<tr><td>Tumor    </td><td style=\"text-align: right;\">0.000850963</td><td style=\"text-align: right;\">0.999149  </td></tr>\n",
       "</tbody>\n",
       "</table>"
      ]
     },
     "metadata": {},
     "output_type": "display_data"
    },
    {
     "name": "stdout",
     "output_type": "stream",
     "text": [
      "\n",
      "Confusion Matrix (Act/Pred) for max f1 @ threshold = 0.9809016563663026: \n"
     ]
    },
    {
     "data": {
      "text/html": [
       "<div style=\"overflow:auto\"><table style=\"width:50%\"><tr><td><b></b></td>\n",
       "<td><b>Normal</b></td>\n",
       "<td><b>Tumor</b></td>\n",
       "<td><b>Error</b></td>\n",
       "<td><b>Rate</b></td></tr>\n",
       "<tr><td>Normal</td>\n",
       "<td>2.0</td>\n",
       "<td>0.0</td>\n",
       "<td>0.0</td>\n",
       "<td> (0.0/2.0)</td></tr>\n",
       "<tr><td>Tumor</td>\n",
       "<td>0.0</td>\n",
       "<td>13.0</td>\n",
       "<td>0.0</td>\n",
       "<td> (0.0/13.0)</td></tr>\n",
       "<tr><td>Total</td>\n",
       "<td>2.0</td>\n",
       "<td>13.0</td>\n",
       "<td>0.0</td>\n",
       "<td> (0.0/15.0)</td></tr></table></div>"
      ],
      "text/plain": [
       "        Normal    Tumor    Error    Rate\n",
       "------  --------  -------  -------  ----------\n",
       "Normal  2         0        0        (0.0/2.0)\n",
       "Tumor   0         13       0        (0.0/13.0)\n",
       "Total   2         13       0        (0.0/15.0)"
      ]
     },
     "metadata": {},
     "output_type": "display_data"
    },
    {
     "name": "stdout",
     "output_type": "stream",
     "text": [
      "\n"
     ]
    }
   ],
   "source": [
    "# Model predictions and validation\n",
    "predictions = model.predict(valid)\n",
    "print(predictions)\n",
    "print(model.confusion_matrix(valid=True))"
   ]
  }
 ],
 "metadata": {
  "kernelspec": {
   "display_name": "Python [conda env:tensorflow]",
   "language": "python",
   "name": "conda-env-tensorflow-py"
  },
  "language_info": {
   "codemirror_mode": {
    "name": "ipython",
    "version": 3
   },
   "file_extension": ".py",
   "mimetype": "text/x-python",
   "name": "python",
   "nbconvert_exporter": "python",
   "pygments_lexer": "ipython3",
   "version": "3.5.5"
  }
 },
 "nbformat": 4,
 "nbformat_minor": 2
}
