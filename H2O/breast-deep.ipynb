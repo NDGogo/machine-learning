{
 "cells": [
  {
   "cell_type": "code",
   "execution_count": 11,
   "metadata": {},
   "outputs": [],
   "source": [
    "import h2o\n",
    "from h2o.estimators.deeplearning import H2ODeepLearningEstimator\n",
    "\n",
    "CLASS_2_DIR = 'Datasets/breast-2-class.txt'\n",
    "DATA_2_DIR = 'Datasets/breast-2-data.txt'\n",
    "CLASS_3_DIR = 'Datasets/breast-3-class.txt'\n",
    "DATA_3_DIR = 'Datasets/breast-3-data.txt'"
   ]
  },
  {
   "cell_type": "code",
   "execution_count": 12,
   "metadata": {
    "collapsed": true
   },
   "outputs": [
    {
     "name": "stdout",
     "output_type": "stream",
     "text": [
      "Checking whether there is an H2O instance running at http://localhost:54321..... not found.\n",
      "Attempting to start a local H2O server...\n",
      "; OpenJDK 64-Bit Server VM (Zulu 8.20.0.5-win64) (build 25.121-b15, mixed mode)\n",
      "  Starting server from C:\\Users\\andyg\\Anaconda3\\envs\\tensorflow\\lib\\site-packages\\h2o\\backend\\bin\\h2o.jar\n",
      "  Ice root: C:\\Users\\andyg\\AppData\\Local\\Temp\\tmp46e2xadk\n",
      "  JVM stdout: C:\\Users\\andyg\\AppData\\Local\\Temp\\tmp46e2xadk\\h2o_andyg_started_from_python.out\n",
      "  JVM stderr: C:\\Users\\andyg\\AppData\\Local\\Temp\\tmp46e2xadk\\h2o_andyg_started_from_python.err\n",
      "  Server is running at http://127.0.0.1:54321\n",
      "Connecting to H2O server at http://127.0.0.1:54321... successful.\n"
     ]
    },
    {
     "data": {
      "text/html": [
       "<div style=\"overflow:auto\"><table style=\"width:50%\"><tr><td>H2O cluster uptime:</td>\n",
       "<td>01 secs</td></tr>\n",
       "<tr><td>H2O cluster timezone:</td>\n",
       "<td>Australia/Sydney</td></tr>\n",
       "<tr><td>H2O data parsing timezone:</td>\n",
       "<td>UTC</td></tr>\n",
       "<tr><td>H2O cluster version:</td>\n",
       "<td>3.20.0.6</td></tr>\n",
       "<tr><td>H2O cluster version age:</td>\n",
       "<td>1 month and 20 days </td></tr>\n",
       "<tr><td>H2O cluster name:</td>\n",
       "<td>H2O_from_python_andyg_3lpnza</td></tr>\n",
       "<tr><td>H2O cluster total nodes:</td>\n",
       "<td>1</td></tr>\n",
       "<tr><td>H2O cluster free memory:</td>\n",
       "<td>3.523 Gb</td></tr>\n",
       "<tr><td>H2O cluster total cores:</td>\n",
       "<td>12</td></tr>\n",
       "<tr><td>H2O cluster allowed cores:</td>\n",
       "<td>12</td></tr>\n",
       "<tr><td>H2O cluster status:</td>\n",
       "<td>accepting new members, healthy</td></tr>\n",
       "<tr><td>H2O connection url:</td>\n",
       "<td>http://127.0.0.1:54321</td></tr>\n",
       "<tr><td>H2O connection proxy:</td>\n",
       "<td>None</td></tr>\n",
       "<tr><td>H2O internal security:</td>\n",
       "<td>False</td></tr>\n",
       "<tr><td>H2O API Extensions:</td>\n",
       "<td>Algos, AutoML, Core V3, Core V4</td></tr>\n",
       "<tr><td>Python version:</td>\n",
       "<td>3.5.5 final</td></tr></table></div>"
      ],
      "text/plain": [
       "--------------------------  -------------------------------\n",
       "H2O cluster uptime:         01 secs\n",
       "H2O cluster timezone:       Australia/Sydney\n",
       "H2O data parsing timezone:  UTC\n",
       "H2O cluster version:        3.20.0.6\n",
       "H2O cluster version age:    1 month and 20 days\n",
       "H2O cluster name:           H2O_from_python_andyg_3lpnza\n",
       "H2O cluster total nodes:    1\n",
       "H2O cluster free memory:    3.523 Gb\n",
       "H2O cluster total cores:    12\n",
       "H2O cluster allowed cores:  12\n",
       "H2O cluster status:         accepting new members, healthy\n",
       "H2O connection url:         http://127.0.0.1:54321\n",
       "H2O connection proxy:\n",
       "H2O internal security:      False\n",
       "H2O API Extensions:         Algos, AutoML, Core V3, Core V4\n",
       "Python version:             3.5.5 final\n",
       "--------------------------  -------------------------------"
      ]
     },
     "metadata": {},
     "output_type": "display_data"
    },
    {
     "name": "stdout",
     "output_type": "stream",
     "text": [
      "Parse progress: |█████████████████████████████████████████████████████████| 100%\n",
      "Parse progress: |█████████████████████████████████████████████████████████| 100%\n",
      "Parse progress: |█████████████████████████████████████████████████████████| 100%\n",
      "Parse progress: |█████████████████████████████████████████████████████████| 100%\n"
     ]
    }
   ],
   "source": [
    "# Initialise H2O cluster\n",
    "h2o.init()\n",
    "h2o.remove_all()\n",
    "\n",
    "breast_2_class = h2o.import_file(path=CLASS_2_DIR, header=-1, sep='\\t')\n",
    "breast_2_data = h2o.import_file(path=DATA_2_DIR, header=1, sep='\\t')\n",
    "breast_3_class = h2o.import_file(path=CLASS_3_DIR, header=-1, sep='\\t')\n",
    "breast_3_data = h2o.import_file(path=DATA_3_DIR, header=1, sep='\\t')"
   ]
  },
  {
   "cell_type": "code",
   "execution_count": 13,
   "metadata": {
    "collapsed": true
   },
   "outputs": [
    {
     "name": "stderr",
     "output_type": "stream",
     "text": [
      "C:\\Users\\andyg\\Anaconda3\\envs\\tensorflow\\lib\\site-packages\\h2o\\utils\\shared_utils.py:177: FutureWarning: Method .as_matrix will be removed in a future version. Use .values instead.\n",
      "  data = _handle_python_lists(python_obj.as_matrix().tolist(), -1)[1]\n"
     ]
    },
    {
     "name": "stdout",
     "output_type": "stream",
     "text": [
      "Parse progress: |█████████████████████████████████████████████████████████| 100%\n",
      "Parse progress: |█████████████████████████████████████████████████████████| 100%\n",
      "Parse progress: |█████████████████████████████████████████████████████████| 100%\n",
      "Parse progress: |█████████████████████████████████████████████████████████| 100%\n",
      "Parse progress: |█████████████████████████████████████████████████████████| 100%\n",
      "Parse progress: |█████████████████████████████████████████████████████████| 100%\n",
      "Parse progress: |█████████████████████████████████████████████████████████| 100%\n"
     ]
    }
   ],
   "source": [
    "# Data preparation and manipulation\n",
    "def transpose_frame(h2o_df, column_name):\n",
    "    pd_df = h2o_df.as_data_frame(use_pandas=True)\n",
    "    pd_df = pd_df.transpose()\n",
    "    if column_name == 'class':\n",
    "        pd_df.columns = [column_name]\n",
    "    elif column_name == 'categories':\n",
    "        pd_df.columns = pd_df.iloc[0]\n",
    "        pd_df = pd_df.drop(labels=column_name, axis=0)\n",
    "    else:\n",
    "        pd_df.columns = ['C' + str(col) for col in range(len(pd_df.columns))]\n",
    "    return h2o.H2OFrame(pd_df)\n",
    "\n",
    "def randomize_frame(h2o_df):\n",
    "    pd_df = h2o_df.as_data_frame(use_pandas=True)\n",
    "    pd_df.sample(frac=1).reset_index(drop=True)\n",
    "    return h2o.H2OFrame(pd_df)\n",
    "\n",
    "breast_2_class_t = transpose_frame(breast_2_class, 'class')\n",
    "breast_2_data_t = transpose_frame(breast_2_data, 'categories')\n",
    "breast_3_class_t = transpose_frame(breast_3_class, 'class')\n",
    "breast_3_data_t = transpose_frame(breast_3_data, 'categories')\n",
    "\n",
    "breast_2 = randomize_frame(breast_2_data_t.cbind(breast_2_class_t))\n",
    "breast_3 = randomize_frame(breast_3_data_t.cbind(breast_3_class_t))\n",
    "breast = randomize_frame(breast_2.rbind(breast_3))\n",
    "\n",
    "label = 'class'\n",
    "features = breast.names\n",
    "features.remove(label)\n",
    "\n",
    "train, valid = breast.split_frame([0.75])\n",
    "train[label] = train[label].asfactor()\n",
    "valid[label] = valid[label].asfactor()"
   ]
  },
  {
   "cell_type": "code",
   "execution_count": 14,
   "metadata": {
    "collapsed": true
   },
   "outputs": [
    {
     "name": "stdout",
     "output_type": "stream",
     "text": [
      "deeplearning Model Build progress: |██████████████████████████████████████| 100%\n"
     ]
    }
   ],
   "source": [
    "# Model properties and training\n",
    "model = H2ODeepLearningEstimator(activation = \"rectifier_with_dropout\", hidden = [190,63,21,7], epochs = 50, input_dropout_ratio = 0.1)\n",
    "model.train(x = features, y = label, training_frame = train, validation_frame = valid)"
   ]
  },
  {
   "cell_type": "code",
   "execution_count": 17,
   "metadata": {},
   "outputs": [
    {
     "name": "stdout",
     "output_type": "stream",
     "text": [
      "deeplearning prediction progress: |███████████████████████████████████████| 100%\n"
     ]
    },
    {
     "data": {
      "text/html": [
       "<table>\n",
       "<thead>\n",
       "<tr><th style=\"text-align: right;\">  predict</th><th style=\"text-align: right;\">       p0</th><th style=\"text-align: right;\">      p1</th><th style=\"text-align: right;\">        p2</th></tr>\n",
       "</thead>\n",
       "<tbody>\n",
       "<tr><td style=\"text-align: right;\">        1</td><td style=\"text-align: right;\">0.248431 </td><td style=\"text-align: right;\">0.681521</td><td style=\"text-align: right;\">0.0700479 </td></tr>\n",
       "<tr><td style=\"text-align: right;\">        1</td><td style=\"text-align: right;\">0.161127 </td><td style=\"text-align: right;\">0.820739</td><td style=\"text-align: right;\">0.0181336 </td></tr>\n",
       "<tr><td style=\"text-align: right;\">        1</td><td style=\"text-align: right;\">0.225486 </td><td style=\"text-align: right;\">0.748883</td><td style=\"text-align: right;\">0.0256309 </td></tr>\n",
       "<tr><td style=\"text-align: right;\">        1</td><td style=\"text-align: right;\">0.316113 </td><td style=\"text-align: right;\">0.429582</td><td style=\"text-align: right;\">0.254305  </td></tr>\n",
       "<tr><td style=\"text-align: right;\">        1</td><td style=\"text-align: right;\">0.102561 </td><td style=\"text-align: right;\">0.893471</td><td style=\"text-align: right;\">0.00396788</td></tr>\n",
       "<tr><td style=\"text-align: right;\">        1</td><td style=\"text-align: right;\">0.271666 </td><td style=\"text-align: right;\">0.497467</td><td style=\"text-align: right;\">0.230867  </td></tr>\n",
       "<tr><td style=\"text-align: right;\">        1</td><td style=\"text-align: right;\">0.340223 </td><td style=\"text-align: right;\">0.430269</td><td style=\"text-align: right;\">0.229508  </td></tr>\n",
       "<tr><td style=\"text-align: right;\">        1</td><td style=\"text-align: right;\">0.0808501</td><td style=\"text-align: right;\">0.917064</td><td style=\"text-align: right;\">0.00208545</td></tr>\n",
       "<tr><td style=\"text-align: right;\">        1</td><td style=\"text-align: right;\">0.0804313</td><td style=\"text-align: right;\">0.91741 </td><td style=\"text-align: right;\">0.00215902</td></tr>\n",
       "<tr><td style=\"text-align: right;\">        1</td><td style=\"text-align: right;\">0.151865 </td><td style=\"text-align: right;\">0.833144</td><td style=\"text-align: right;\">0.0149919 </td></tr>\n",
       "</tbody>\n",
       "</table>"
      ]
     },
     "metadata": {},
     "output_type": "display_data"
    },
    {
     "name": "stdout",
     "output_type": "stream",
     "text": [
      "\n",
      "Confusion Matrix: Row labels: Actual class; Column labels: Predicted class\n",
      "\n"
     ]
    },
    {
     "data": {
      "text/html": [
       "<div style=\"overflow:auto\"><table style=\"width:50%\"><tr><td><b>0</b></td>\n",
       "<td><b>1</b></td>\n",
       "<td><b>2</b></td>\n",
       "<td><b>Error</b></td>\n",
       "<td><b>Rate</b></td></tr>\n",
       "<tr><td>9.0</td>\n",
       "<td>2.0</td>\n",
       "<td>0.0</td>\n",
       "<td>0.1818182</td>\n",
       "<td>2 / 11</td></tr>\n",
       "<tr><td>1.0</td>\n",
       "<td>22.0</td>\n",
       "<td>0.0</td>\n",
       "<td>0.0434783</td>\n",
       "<td>1 / 23</td></tr>\n",
       "<tr><td>6.0</td>\n",
       "<td>1.0</td>\n",
       "<td>0.0</td>\n",
       "<td>1.0</td>\n",
       "<td>7 / 7</td></tr>\n",
       "<tr><td>16.0</td>\n",
       "<td>25.0</td>\n",
       "<td>0.0</td>\n",
       "<td>0.2439024</td>\n",
       "<td>10 / 41</td></tr></table></div>"
      ],
      "text/plain": [
       "0    1    2    Error      Rate\n",
       "---  ---  ---  ---------  -------\n",
       "9    2    0    0.181818   2 / 11\n",
       "1    22   0    0.0434783  1 / 23\n",
       "6    1    0    1          7 / 7\n",
       "16   25   0    0.243902   10 / 41"
      ]
     },
     "metadata": {},
     "output_type": "display_data"
    },
    {
     "name": "stdout",
     "output_type": "stream",
     "text": [
      "\n"
     ]
    }
   ],
   "source": [
    "# Model predictions and validation\n",
    "predictions = model.predict(valid)\n",
    "print(predictions)\n",
    "print(model.confusion_matrix(valid))"
   ]
  }
 ],
 "metadata": {
  "kernelspec": {
   "display_name": "Python [conda env:tensorflow]",
   "language": "python",
   "name": "conda-env-tensorflow-py"
  },
  "language_info": {
   "codemirror_mode": {
    "name": "ipython",
    "version": 3
   },
   "file_extension": ".py",
   "mimetype": "text/x-python",
   "name": "python",
   "nbconvert_exporter": "python",
   "pygments_lexer": "ipython3",
   "version": "3.5.5"
  }
 },
 "nbformat": 4,
 "nbformat_minor": 2
}
