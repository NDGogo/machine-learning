{
 "cells": [
  {
   "cell_type": "code",
   "execution_count": 2,
   "metadata": {},
   "outputs": [],
   "source": [
    "import h2o"
   ]
  },
  {
   "cell_type": "code",
   "execution_count": 3,
   "metadata": {
    "collapsed": true
   },
   "outputs": [
    {
     "name": "stdout",
     "output_type": "stream",
     "text": [
      "Checking whether there is an H2O instance running at http://localhost:54321. connected.\n"
     ]
    },
    {
     "data": {
      "text/html": [
       "<div style=\"overflow:auto\"><table style=\"width:50%\"><tr><td>H2O cluster uptime:</td>\n",
       "<td>1 min 13 secs</td></tr>\n",
       "<tr><td>H2O cluster timezone:</td>\n",
       "<td>Australia/Sydney</td></tr>\n",
       "<tr><td>H2O data parsing timezone:</td>\n",
       "<td>UTC</td></tr>\n",
       "<tr><td>H2O cluster version:</td>\n",
       "<td>3.20.0.6</td></tr>\n",
       "<tr><td>H2O cluster version age:</td>\n",
       "<td>1 month and 20 days </td></tr>\n",
       "<tr><td>H2O cluster name:</td>\n",
       "<td>H2O_from_python_andyg_hpou8r</td></tr>\n",
       "<tr><td>H2O cluster total nodes:</td>\n",
       "<td>1</td></tr>\n",
       "<tr><td>H2O cluster free memory:</td>\n",
       "<td>3.057 Gb</td></tr>\n",
       "<tr><td>H2O cluster total cores:</td>\n",
       "<td>12</td></tr>\n",
       "<tr><td>H2O cluster allowed cores:</td>\n",
       "<td>12</td></tr>\n",
       "<tr><td>H2O cluster status:</td>\n",
       "<td>locked, healthy</td></tr>\n",
       "<tr><td>H2O connection url:</td>\n",
       "<td>http://localhost:54321</td></tr>\n",
       "<tr><td>H2O connection proxy:</td>\n",
       "<td>None</td></tr>\n",
       "<tr><td>H2O internal security:</td>\n",
       "<td>False</td></tr>\n",
       "<tr><td>H2O API Extensions:</td>\n",
       "<td>Algos, AutoML, Core V3, Core V4</td></tr>\n",
       "<tr><td>Python version:</td>\n",
       "<td>3.5.5 final</td></tr></table></div>"
      ],
      "text/plain": [
       "--------------------------  -------------------------------\n",
       "H2O cluster uptime:         1 min 13 secs\n",
       "H2O cluster timezone:       Australia/Sydney\n",
       "H2O data parsing timezone:  UTC\n",
       "H2O cluster version:        3.20.0.6\n",
       "H2O cluster version age:    1 month and 20 days\n",
       "H2O cluster name:           H2O_from_python_andyg_hpou8r\n",
       "H2O cluster total nodes:    1\n",
       "H2O cluster free memory:    3.057 Gb\n",
       "H2O cluster total cores:    12\n",
       "H2O cluster allowed cores:  12\n",
       "H2O cluster status:         locked, healthy\n",
       "H2O connection url:         http://localhost:54321\n",
       "H2O connection proxy:\n",
       "H2O internal security:      False\n",
       "H2O API Extensions:         Algos, AutoML, Core V3, Core V4\n",
       "Python version:             3.5.5 final\n",
       "--------------------------  -------------------------------"
      ]
     },
     "metadata": {},
     "output_type": "display_data"
    },
    {
     "name": "stdout",
     "output_type": "stream",
     "text": [
      "Parse progress: |█████████████████████████████████████████████████████████| 100%\n"
     ]
    }
   ],
   "source": [
    "# Use all available computing resources\n",
    "h2o.init()\n",
    "\n",
    "# Import data to H2O cluster\n",
    "datasets = \"https://raw.githubusercontent.com/DarrenCook/h2o/bk/datasets/iris_wheader.csv\"\n",
    "data = h2o.import_file(datasets)"
   ]
  },
  {
   "cell_type": "code",
   "execution_count": 7,
   "metadata": {},
   "outputs": [],
   "source": [
    "# Remove label column and leave only features\n",
    "y = \"class\"\n",
    "x = data.names\n",
    "x.remove(y)\n",
    "\n",
    "# Create training and testing sets \n",
    "train, test = data.split_frame([0.8])"
   ]
  },
  {
   "cell_type": "code",
   "execution_count": 8,
   "metadata": {},
   "outputs": [
    {
     "name": "stdout",
     "output_type": "stream",
     "text": [
      "deeplearning Model Build progress: |██████████████████████████████████████| 100%\n"
     ]
    }
   ],
   "source": [
    "#  Training the model\n",
    "m = h2o.estimators.deeplearning.H2ODeepLearningEstimator()\n",
    "m.train(x, y, train)"
   ]
  },
  {
   "cell_type": "code",
   "execution_count": 10,
   "metadata": {},
   "outputs": [
    {
     "name": "stdout",
     "output_type": "stream",
     "text": [
      "deeplearning prediction progress: |███████████████████████████████████████| 100%\n"
     ]
    },
    {
     "data": {
      "text/html": [
       "<table>\n",
       "<thead>\n",
       "<tr><th>predict        </th><th style=\"text-align: right;\">  Iris-setosa</th><th style=\"text-align: right;\">  Iris-versicolor</th><th style=\"text-align: right;\">  Iris-virginica</th></tr>\n",
       "</thead>\n",
       "<tbody>\n",
       "<tr><td>Iris-setosa    </td><td style=\"text-align: right;\">   0.952127  </td><td style=\"text-align: right;\">      0.0478732  </td><td style=\"text-align: right;\">     4.16997e-27</td></tr>\n",
       "<tr><td>Iris-setosa    </td><td style=\"text-align: right;\">   0.996101  </td><td style=\"text-align: right;\">      0.00389852 </td><td style=\"text-align: right;\">     2.78686e-29</td></tr>\n",
       "<tr><td>Iris-setosa    </td><td style=\"text-align: right;\">   0.998556  </td><td style=\"text-align: right;\">      0.00144351 </td><td style=\"text-align: right;\">     3.28627e-30</td></tr>\n",
       "<tr><td>Iris-setosa    </td><td style=\"text-align: right;\">   0.999894  </td><td style=\"text-align: right;\">      0.000105516</td><td style=\"text-align: right;\">     5.07241e-30</td></tr>\n",
       "<tr><td>Iris-setosa    </td><td style=\"text-align: right;\">   0.991397  </td><td style=\"text-align: right;\">      0.00860307 </td><td style=\"text-align: right;\">     9.41753e-29</td></tr>\n",
       "<tr><td>Iris-setosa    </td><td style=\"text-align: right;\">   0.985462  </td><td style=\"text-align: right;\">      0.0145375  </td><td style=\"text-align: right;\">     5.43227e-28</td></tr>\n",
       "<tr><td>Iris-setosa    </td><td style=\"text-align: right;\">   0.935698  </td><td style=\"text-align: right;\">      0.0643024  </td><td style=\"text-align: right;\">     4.04372e-27</td></tr>\n",
       "<tr><td>Iris-setosa    </td><td style=\"text-align: right;\">   0.986547  </td><td style=\"text-align: right;\">      0.0134529  </td><td style=\"text-align: right;\">     4.67311e-28</td></tr>\n",
       "<tr><td>Iris-setosa    </td><td style=\"text-align: right;\">   0.998018  </td><td style=\"text-align: right;\">      0.00198229 </td><td style=\"text-align: right;\">     4.26086e-29</td></tr>\n",
       "<tr><td>Iris-versicolor</td><td style=\"text-align: right;\">   0.00825245</td><td style=\"text-align: right;\">      0.991748   </td><td style=\"text-align: right;\">     2.51739e-23</td></tr>\n",
       "</tbody>\n",
       "</table>"
      ]
     },
     "metadata": {},
     "output_type": "display_data"
    },
    {
     "name": "stdout",
     "output_type": "stream",
     "text": [
      "\n",
      "Confusion Matrix: Row labels: Actual class; Column labels: Predicted class\n",
      "\n"
     ]
    },
    {
     "data": {
      "text/html": [
       "<div style=\"overflow:auto\"><table style=\"width:50%\"><tr><td><b>Iris-setosa</b></td>\n",
       "<td><b>Iris-versicolor</b></td>\n",
       "<td><b>Iris-virginica</b></td>\n",
       "<td><b>Error</b></td>\n",
       "<td><b>Rate</b></td></tr>\n",
       "<tr><td>39.0</td>\n",
       "<td>0.0</td>\n",
       "<td>0.0</td>\n",
       "<td>0.0</td>\n",
       "<td>0 / 39</td></tr>\n",
       "<tr><td>0.0</td>\n",
       "<td>37.0</td>\n",
       "<td>0.0</td>\n",
       "<td>0.0</td>\n",
       "<td>0 / 37</td></tr>\n",
       "<tr><td>0.0</td>\n",
       "<td>19.0</td>\n",
       "<td>24.0</td>\n",
       "<td>0.4418605</td>\n",
       "<td>19 / 43</td></tr>\n",
       "<tr><td>39.0</td>\n",
       "<td>56.0</td>\n",
       "<td>24.0</td>\n",
       "<td>0.1596639</td>\n",
       "<td>19 / 119</td></tr></table></div>"
      ],
      "text/plain": [
       "Iris-setosa    Iris-versicolor    Iris-virginica    Error     Rate\n",
       "-------------  -----------------  ----------------  --------  --------\n",
       "39             0                  0                 0         0 / 39\n",
       "0              37                 0                 0         0 / 37\n",
       "0              19                 24                0.44186   19 / 43\n",
       "39             56                 24                0.159664  19 / 119"
      ]
     },
     "metadata": {},
     "output_type": "display_data"
    },
    {
     "name": "stdout",
     "output_type": "stream",
     "text": [
      "\n"
     ]
    }
   ],
   "source": [
    "# Using the model\n",
    "p = m.predict(test)\n",
    "\n",
    "print(p)\n",
    "print(m.confusion_matrix(train))"
   ]
  }
 ],
 "metadata": {
  "kernelspec": {
   "display_name": "Python [conda env:tensorflow]",
   "language": "python",
   "name": "conda-env-tensorflow-py"
  },
  "language_info": {
   "codemirror_mode": {
    "name": "ipython",
    "version": 3
   },
   "file_extension": ".py",
   "mimetype": "text/x-python",
   "name": "python",
   "nbconvert_exporter": "python",
   "pygments_lexer": "ipython3",
   "version": "3.5.5"
  }
 },
 "nbformat": 4,
 "nbformat_minor": 2
}
