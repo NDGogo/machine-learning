{
 "cells": [
  {
   "cell_type": "code",
   "execution_count": 1,
   "metadata": {},
   "outputs": [],
   "source": [
    "import h2o\n",
    "from h2o.estimators.deeplearning import H2ODeepLearningEstimator"
   ]
  },
  {
   "cell_type": "code",
   "execution_count": null,
   "metadata": {},
   "outputs": [],
   "source": [
    "h2o.init()\n",
    "h2o.remove_all()"
   ]
  },
  {
   "cell_type": "code",
   "execution_count": null,
   "metadata": {},
   "outputs": [],
   "source": [
    "# Importing required data\n",
    "dataset = 'Datasets/pima-indians-diabetes.csv'\n",
    "pima = h2o.import_file(path=dataset)"
   ]
  },
  {
   "cell_type": "code",
   "execution_count": 5,
   "metadata": {},
   "outputs": [],
   "source": [
    "# Data preparation and manipulation\n",
    "label = \"C9\"\n",
    "features = pima.names\n",
    "features.remove(label)\n",
    "\n",
    "train, valid = pima.split_frame(ratios=[0.75], seed=33)\n",
    "train[label] = train[label].asfactor()\n",
    "valid[label] = valid[label].asfactor()"
   ]
  },
  {
   "cell_type": "code",
   "execution_count": null,
   "metadata": {},
   "outputs": [],
   "source": [
    "# Model properties and training\n",
    "model = H2ODeepLearningEstimator(activation=\"rectifier_with_dropout\", hidden=[190,63,21,7], epochs=50, input_dropout_ratio=0.1)\n",
    "model.train(x=features, y=label, training_frame=train, validation_frame=valid)"
   ]
  },
  {
   "cell_type": "code",
   "execution_count": 9,
   "metadata": {},
   "outputs": [
    {
     "name": "stdout",
     "output_type": "stream",
     "text": [
      "deeplearning prediction progress: |███████████████████████████████████████| 100%\n"
     ]
    },
    {
     "data": {
      "text/html": [
       "<table>\n",
       "<thead>\n",
       "<tr><th style=\"text-align: right;\">  predict</th><th style=\"text-align: right;\">      p0</th><th style=\"text-align: right;\">       p1</th></tr>\n",
       "</thead>\n",
       "<tbody>\n",
       "<tr><td style=\"text-align: right;\">        0</td><td style=\"text-align: right;\">0.868097</td><td style=\"text-align: right;\">0.131903 </td></tr>\n",
       "<tr><td style=\"text-align: right;\">        1</td><td style=\"text-align: right;\">0.511678</td><td style=\"text-align: right;\">0.488322 </td></tr>\n",
       "<tr><td style=\"text-align: right;\">        0</td><td style=\"text-align: right;\">0.763839</td><td style=\"text-align: right;\">0.236161 </td></tr>\n",
       "<tr><td style=\"text-align: right;\">        0</td><td style=\"text-align: right;\">0.632061</td><td style=\"text-align: right;\">0.367939 </td></tr>\n",
       "<tr><td style=\"text-align: right;\">        0</td><td style=\"text-align: right;\">0.72399 </td><td style=\"text-align: right;\">0.27601  </td></tr>\n",
       "<tr><td style=\"text-align: right;\">        1</td><td style=\"text-align: right;\">0.477092</td><td style=\"text-align: right;\">0.522908 </td></tr>\n",
       "<tr><td style=\"text-align: right;\">        1</td><td style=\"text-align: right;\">0.440977</td><td style=\"text-align: right;\">0.559023 </td></tr>\n",
       "<tr><td style=\"text-align: right;\">        0</td><td style=\"text-align: right;\">0.943619</td><td style=\"text-align: right;\">0.0563811</td></tr>\n",
       "<tr><td style=\"text-align: right;\">        1</td><td style=\"text-align: right;\">0.479817</td><td style=\"text-align: right;\">0.520183 </td></tr>\n",
       "<tr><td style=\"text-align: right;\">        1</td><td style=\"text-align: right;\">0.397217</td><td style=\"text-align: right;\">0.602783 </td></tr>\n",
       "</tbody>\n",
       "</table>"
      ]
     },
     "metadata": {},
     "output_type": "display_data"
    },
    {
     "name": "stdout",
     "output_type": "stream",
     "text": [
      "\n",
      "Confusion Matrix (Act/Pred) for max f1 @ threshold = 0.38789386143311566: \n"
     ]
    },
    {
     "data": {
      "text/html": [
       "<div style=\"overflow:auto\"><table style=\"width:50%\"><tr><td><b></b></td>\n",
       "<td><b>0</b></td>\n",
       "<td><b>1</b></td>\n",
       "<td><b>Error</b></td>\n",
       "<td><b>Rate</b></td></tr>\n",
       "<tr><td>0</td>\n",
       "<td>110.0</td>\n",
       "<td>22.0</td>\n",
       "<td>0.1667</td>\n",
       "<td> (22.0/132.0)</td></tr>\n",
       "<tr><td>1</td>\n",
       "<td>16.0</td>\n",
       "<td>53.0</td>\n",
       "<td>0.2319</td>\n",
       "<td> (16.0/69.0)</td></tr>\n",
       "<tr><td>Total</td>\n",
       "<td>126.0</td>\n",
       "<td>75.0</td>\n",
       "<td>0.1891</td>\n",
       "<td> (38.0/201.0)</td></tr></table></div>"
      ],
      "text/plain": [
       "       0    1    Error    Rate\n",
       "-----  ---  ---  -------  ------------\n",
       "0      110  22   0.1667   (22.0/132.0)\n",
       "1      16   53   0.2319   (16.0/69.0)\n",
       "Total  126  75   0.1891   (38.0/201.0)"
      ]
     },
     "metadata": {},
     "output_type": "display_data"
    },
    {
     "name": "stdout",
     "output_type": "stream",
     "text": [
      "\n"
     ]
    }
   ],
   "source": [
    "# Model predictions and validation\n",
    "predictions = model.predict(valid)\n",
    "print(predictions)\n",
    "print(model.confusion_matrix(valid=True))"
   ]
  }
 ],
 "metadata": {
  "kernelspec": {
   "display_name": "Python [conda env:tensorflow]",
   "language": "python",
   "name": "conda-env-tensorflow-py"
  },
  "language_info": {
   "codemirror_mode": {
    "name": "ipython",
    "version": 3
   },
   "file_extension": ".py",
   "mimetype": "text/x-python",
   "name": "python",
   "nbconvert_exporter": "python",
   "pygments_lexer": "ipython3",
   "version": "3.5.5"
  }
 },
 "nbformat": 4,
 "nbformat_minor": 2
}
